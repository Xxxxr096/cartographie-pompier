{
 "cells": [
  {
   "cell_type": "code",
   "execution_count": 1,
   "metadata": {},
   "outputs": [],
   "source": [
    "import pandas as pd"
   ]
  },
  {
   "cell_type": "code",
   "execution_count": 4,
   "metadata": {},
   "outputs": [],
   "source": [
    "ut= pd.read_csv(\"ut_spp.csv\",sep=\";\")"
   ]
  },
  {
   "cell_type": "code",
   "execution_count": 5,
   "metadata": {},
   "outputs": [
    {
     "data": {
      "text/html": [
       "<div>\n",
       "<style scoped>\n",
       "    .dataframe tbody tr th:only-of-type {\n",
       "        vertical-align: middle;\n",
       "    }\n",
       "\n",
       "    .dataframe tbody tr th {\n",
       "        vertical-align: top;\n",
       "    }\n",
       "\n",
       "    .dataframe thead th {\n",
       "        text-align: right;\n",
       "    }\n",
       "</style>\n",
       "<table border=\"1\" class=\"dataframe\">\n",
       "  <thead>\n",
       "    <tr style=\"text-align: right;\">\n",
       "      <th></th>\n",
       "      <th>ut</th>\n",
       "      <th>x_norm</th>\n",
       "      <th>y_norm</th>\n",
       "      <th>offset_x</th>\n",
       "      <th>offset_y</th>\n",
       "    </tr>\n",
       "  </thead>\n",
       "  <tbody>\n",
       "    <tr>\n",
       "      <th>0</th>\n",
       "      <td>NAN</td>\n",
       "      <td>NaN</td>\n",
       "      <td>NaN</td>\n",
       "      <td>0</td>\n",
       "      <td>0</td>\n",
       "    </tr>\n",
       "    <tr>\n",
       "      <th>1</th>\n",
       "      <td>UT BARR</td>\n",
       "      <td>0.4451</td>\n",
       "      <td>0.7152</td>\n",
       "      <td>0</td>\n",
       "      <td>0</td>\n",
       "    </tr>\n",
       "    <tr>\n",
       "      <th>2</th>\n",
       "      <td>UT BENFELD</td>\n",
       "      <td>0.5491</td>\n",
       "      <td>0.7420</td>\n",
       "      <td>0</td>\n",
       "      <td>0</td>\n",
       "    </tr>\n",
       "    <tr>\n",
       "      <th>3</th>\n",
       "      <td>UT BERNSTEIN</td>\n",
       "      <td>NaN</td>\n",
       "      <td>NaN</td>\n",
       "      <td>0</td>\n",
       "      <td>0</td>\n",
       "    </tr>\n",
       "    <tr>\n",
       "      <th>4</th>\n",
       "      <td>UT BISCHWILLER</td>\n",
       "      <td>0.7073</td>\n",
       "      <td>0.4134</td>\n",
       "      <td>0</td>\n",
       "      <td>0</td>\n",
       "    </tr>\n",
       "  </tbody>\n",
       "</table>\n",
       "</div>"
      ],
      "text/plain": [
       "               ut  x_norm  y_norm  offset_x  offset_y\n",
       "0             NAN     NaN     NaN         0         0\n",
       "1         UT BARR  0.4451  0.7152         0         0\n",
       "2      UT BENFELD  0.5491  0.7420         0         0\n",
       "3    UT BERNSTEIN     NaN     NaN         0         0\n",
       "4  UT BISCHWILLER  0.7073  0.4134         0         0"
      ]
     },
     "execution_count": 5,
     "metadata": {},
     "output_type": "execute_result"
    }
   ],
   "source": [
    "ut.head()"
   ]
  },
  {
   "cell_type": "code",
   "execution_count": 11,
   "metadata": {},
   "outputs": [],
   "source": [
    "nouvelle = {\"ut\" : \"UT STRASBOURG FINKWI\", \"x_norm\":0.6438, \"y_norm\": 0.5725,\"offset_x\":0,\"offset_y\":0 }\n",
    "nouvelle2 = {\"ut\" : \"UT STRASBOURG OUEST\", \"x_norm\":0.6293, \"y_norm\": 0.5616,\"offset_x\":0,\"offset_y\":0 }"
   ]
  },
  {
   "cell_type": "code",
   "execution_count": 8,
   "metadata": {},
   "outputs": [],
   "source": [
    "ut.loc[len(ut)] = nouvelle"
   ]
  },
  {
   "cell_type": "code",
   "execution_count": 9,
   "metadata": {},
   "outputs": [
    {
     "data": {
      "text/html": [
       "<div>\n",
       "<style scoped>\n",
       "    .dataframe tbody tr th:only-of-type {\n",
       "        vertical-align: middle;\n",
       "    }\n",
       "\n",
       "    .dataframe tbody tr th {\n",
       "        vertical-align: top;\n",
       "    }\n",
       "\n",
       "    .dataframe thead th {\n",
       "        text-align: right;\n",
       "    }\n",
       "</style>\n",
       "<table border=\"1\" class=\"dataframe\">\n",
       "  <thead>\n",
       "    <tr style=\"text-align: right;\">\n",
       "      <th></th>\n",
       "      <th>ut</th>\n",
       "      <th>x_norm</th>\n",
       "      <th>y_norm</th>\n",
       "      <th>offset_x</th>\n",
       "      <th>offset_y</th>\n",
       "    </tr>\n",
       "  </thead>\n",
       "  <tbody>\n",
       "    <tr>\n",
       "      <th>46</th>\n",
       "      <td>UT WASSELONNE</td>\n",
       "      <td>0.4151</td>\n",
       "      <td>0.5280</td>\n",
       "      <td>0</td>\n",
       "      <td>0</td>\n",
       "    </tr>\n",
       "    <tr>\n",
       "      <th>47</th>\n",
       "      <td>UT WINGEN SUR MODER</td>\n",
       "      <td>0.3439</td>\n",
       "      <td>0.3094</td>\n",
       "      <td>0</td>\n",
       "      <td>0</td>\n",
       "    </tr>\n",
       "    <tr>\n",
       "      <th>48</th>\n",
       "      <td>UT WISSEMBOURG</td>\n",
       "      <td>0.7693</td>\n",
       "      <td>0.2042</td>\n",
       "      <td>0</td>\n",
       "      <td>0</td>\n",
       "    </tr>\n",
       "    <tr>\n",
       "      <th>49</th>\n",
       "      <td>UT WOERTH</td>\n",
       "      <td>0.6204</td>\n",
       "      <td>0.2838</td>\n",
       "      <td>0</td>\n",
       "      <td>0</td>\n",
       "    </tr>\n",
       "    <tr>\n",
       "      <th>50</th>\n",
       "      <td>UT STRASBOURG FINKWI</td>\n",
       "      <td>0.6438</td>\n",
       "      <td>0.5725</td>\n",
       "      <td>0</td>\n",
       "      <td>0</td>\n",
       "    </tr>\n",
       "  </tbody>\n",
       "</table>\n",
       "</div>"
      ],
      "text/plain": [
       "                      ut  x_norm  y_norm  offset_x  offset_y\n",
       "46         UT WASSELONNE  0.4151  0.5280         0         0\n",
       "47   UT WINGEN SUR MODER  0.3439  0.3094         0         0\n",
       "48        UT WISSEMBOURG  0.7693  0.2042         0         0\n",
       "49             UT WOERTH  0.6204  0.2838         0         0\n",
       "50  UT STRASBOURG FINKWI  0.6438  0.5725         0         0"
      ]
     },
     "execution_count": 9,
     "metadata": {},
     "output_type": "execute_result"
    }
   ],
   "source": [
    "ut.tail()"
   ]
  },
  {
   "cell_type": "code",
   "execution_count": 12,
   "metadata": {},
   "outputs": [],
   "source": [
    "ut.loc[len(ut)] = nouvelle2"
   ]
  },
  {
   "cell_type": "code",
   "execution_count": 13,
   "metadata": {},
   "outputs": [
    {
     "data": {
      "text/html": [
       "<div>\n",
       "<style scoped>\n",
       "    .dataframe tbody tr th:only-of-type {\n",
       "        vertical-align: middle;\n",
       "    }\n",
       "\n",
       "    .dataframe tbody tr th {\n",
       "        vertical-align: top;\n",
       "    }\n",
       "\n",
       "    .dataframe thead th {\n",
       "        text-align: right;\n",
       "    }\n",
       "</style>\n",
       "<table border=\"1\" class=\"dataframe\">\n",
       "  <thead>\n",
       "    <tr style=\"text-align: right;\">\n",
       "      <th></th>\n",
       "      <th>ut</th>\n",
       "      <th>x_norm</th>\n",
       "      <th>y_norm</th>\n",
       "      <th>offset_x</th>\n",
       "      <th>offset_y</th>\n",
       "    </tr>\n",
       "  </thead>\n",
       "  <tbody>\n",
       "    <tr>\n",
       "      <th>47</th>\n",
       "      <td>UT WINGEN SUR MODER</td>\n",
       "      <td>0.3439</td>\n",
       "      <td>0.3094</td>\n",
       "      <td>0</td>\n",
       "      <td>0</td>\n",
       "    </tr>\n",
       "    <tr>\n",
       "      <th>48</th>\n",
       "      <td>UT WISSEMBOURG</td>\n",
       "      <td>0.7693</td>\n",
       "      <td>0.2042</td>\n",
       "      <td>0</td>\n",
       "      <td>0</td>\n",
       "    </tr>\n",
       "    <tr>\n",
       "      <th>49</th>\n",
       "      <td>UT WOERTH</td>\n",
       "      <td>0.6204</td>\n",
       "      <td>0.2838</td>\n",
       "      <td>0</td>\n",
       "      <td>0</td>\n",
       "    </tr>\n",
       "    <tr>\n",
       "      <th>50</th>\n",
       "      <td>UT STRASBOURG FINKWI</td>\n",
       "      <td>0.6438</td>\n",
       "      <td>0.5725</td>\n",
       "      <td>0</td>\n",
       "      <td>0</td>\n",
       "    </tr>\n",
       "    <tr>\n",
       "      <th>51</th>\n",
       "      <td>UT STRASBOURG OUEST</td>\n",
       "      <td>0.6293</td>\n",
       "      <td>0.5616</td>\n",
       "      <td>0</td>\n",
       "      <td>0</td>\n",
       "    </tr>\n",
       "  </tbody>\n",
       "</table>\n",
       "</div>"
      ],
      "text/plain": [
       "                      ut  x_norm  y_norm  offset_x  offset_y\n",
       "47   UT WINGEN SUR MODER  0.3439  0.3094         0         0\n",
       "48        UT WISSEMBOURG  0.7693  0.2042         0         0\n",
       "49             UT WOERTH  0.6204  0.2838         0         0\n",
       "50  UT STRASBOURG FINKWI  0.6438  0.5725         0         0\n",
       "51   UT STRASBOURG OUEST  0.6293  0.5616         0         0"
      ]
     },
     "execution_count": 13,
     "metadata": {},
     "output_type": "execute_result"
    }
   ],
   "source": [
    "ut.tail()"
   ]
  }
 ],
 "metadata": {
  "kernelspec": {
   "display_name": "3.10.13",
   "language": "python",
   "name": "python3"
  },
  "language_info": {
   "codemirror_mode": {
    "name": "ipython",
    "version": 3
   },
   "file_extension": ".py",
   "mimetype": "text/x-python",
   "name": "python",
   "nbconvert_exporter": "python",
   "pygments_lexer": "ipython3",
   "version": "3.10.13"
  }
 },
 "nbformat": 4,
 "nbformat_minor": 2
}
